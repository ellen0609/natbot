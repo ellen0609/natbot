{
 "cells": [
  {
   "cell_type": "code",
   "execution_count": null,
   "metadata": {},
   "outputs": [],
   "source": [
    "import configparser\n",
    "from revChatGPT.V1 import Chatbot\n",
    "\n",
    "config = configparser.ConfigParser()\n",
    "config.read('config.ini')\n",
    "\n",
    "chatbot = Chatbot(config={\n",
    "  \"access_token\": config['chatGPT']['access_token'],\n",
    "  \"conversation_id\": config['chatGPT']['conversation_id'],\n",
    "  # \"parent_id\": \"UUID...\",\n",
    "  # \"proxy\": \"...\",\n",
    "  \"model\": config['chatGPT']['model'], # gpt-4-browsing, text-davinci-002-render-sha, gpt-4, gpt-4-plugins\n",
    "  # \"plugin_ids\" : [\"plugin-d1d6eb04-3375-40aa-940a-c2fc57ce0f51\"],   # Wolfram Alpha example\n",
    "  # \"disable_history\": True,\n",
    "})\n",
    "\n",
    "prompt = \"你好\"\n",
    "response = \"\"\n",
    "\n",
    "for data in chatbot.ask(prompt):\n",
    "    print(data)\n",
    "    response = data[\"message\"]\n",
    "\n",
    "print(response)"
   ]
  }
 ],
 "metadata": {
  "kernelspec": {
   "display_name": "Python 3",
   "language": "python",
   "name": "python3"
  },
  "language_info": {
   "codemirror_mode": {
    "name": "ipython",
    "version": 3
   },
   "file_extension": ".py",
   "mimetype": "text/x-python",
   "name": "python",
   "nbconvert_exporter": "python",
   "pygments_lexer": "ipython3",
   "version": "3.9.16"
  },
  "orig_nbformat": 4
 },
 "nbformat": 4,
 "nbformat_minor": 2
}
