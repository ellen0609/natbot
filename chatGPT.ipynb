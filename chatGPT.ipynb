{
 "cells": [
  {
   "cell_type": "code",
   "execution_count": null,
   "metadata": {},
   "outputs": [],
   "source": [
    "from revChatGPT.V1 import Chatbot\n",
    "\n",
    "chatbot = Chatbot(config={\n",
    "  \"access_token\": \"eyJhbGciOiJSUzI1NiIsInR5cCI6IkpXVCIsImtpZCI6Ik1UaEVOVUpHTkVNMVFURTRNMEZCTWpkQ05UZzVNRFUxUlRVd1FVSkRNRU13UmtGRVFrRXpSZyJ9.eyJodHRwczovL2FwaS5vcGVuYWkuY29tL3Byb2ZpbGUiOnsiZW1haWwiOiJyMDk1MjUwNTlAZy5udHUuZWR1LnR3IiwiZW1haWxfdmVyaWZpZWQiOnRydWV9LCJodHRwczovL2FwaS5vcGVuYWkuY29tL2F1dGgiOnsidXNlcl9pZCI6InVzZXIteW92bUp4N2dJVnFlWld4V25BOE9JdWZXIn0sImlzcyI6Imh0dHBzOi8vYXV0aDAub3BlbmFpLmNvbS8iLCJzdWIiOiJnb29nbGUtb2F1dGgyfDEwOTE2ODAzODY5NDQxMDM4OTgwNCIsImF1ZCI6WyJodHRwczovL2FwaS5vcGVuYWkuY29tL3YxIiwiaHR0cHM6Ly9vcGVuYWkub3BlbmFpLmF1dGgwYXBwLmNvbS91c2VyaW5mbyJdLCJpYXQiOjE2ODQ1NDgxODcsImV4cCI6MTY4NTc1Nzc4NywiYXpwIjoiVGRKSWNiZTE2V29USHROOTVueXl3aDVFNHlPbzZJdEciLCJzY29wZSI6Im9wZW5pZCBwcm9maWxlIGVtYWlsIG1vZGVsLnJlYWQgbW9kZWwucmVxdWVzdCBvcmdhbml6YXRpb24ucmVhZCBvcmdhbml6YXRpb24ud3JpdGUifQ.rDzIdqmxublj8TQPbdNtOaAKQzirhlDimcFlfTeRWSct7J4UJgq3CyggswdE1hV1dn7VLaFKUg0HcYYHNkb7iHcGqIPENYwwIhiUtY3a2pEpoWnhxll5Z5n1TnmsAcea_kzzK9dnO_13vEDsjTwq_n0xaTXAyfgIFTsA_Ocn4UAgPHYoPp7coRPx1rxATg0jUAEVgm7zFjY8iCLauaT-CnZ21MFSuE3aBXS4YvbY978fXI4wj1HlzfbZxbOqLLEna-s3X7bpRj9tEZziTOlDsn8yQNaCXpcmRLec72mM1f0fY1nahkYMF18vVJ3EH1BOo-AfUZl1tfufuTMIdlPDTw\",\n",
    "  \"conversation_id\": \"8e017a6d-1c30-4451-bbb5-4d04322a59a5\",\n",
    "  # \"parent_id\": \"UUID...\",\n",
    "  # \"proxy\": \"...\",\n",
    "  \"model\": \"text-davinci-002-render-sha\", # gpt-4-browsing, text-davinci-002-render-sha, gpt-4, gpt-4-plugins\n",
    "  # \"plugin_ids\" : [\"plugin-d1d6eb04-3375-40aa-940a-c2fc57ce0f51\"],   # Wolfram Alpha example\n",
    "  # \"disable_history\": True,\n",
    "})\n"
   ]
  },
  {
   "cell_type": "code",
   "execution_count": null,
   "metadata": {},
   "outputs": [],
   "source": [
    "prompt = \"你好\"\n",
    "response = \"\""
   ]
  },
  {
   "cell_type": "code",
   "execution_count": null,
   "metadata": {},
   "outputs": [],
   "source": [
    "for data in chatbot.ask(prompt):\n",
    "    response = data[\"message\"]\n",
    "\n",
    "print(response)"
   ]
  },
  {
   "cell_type": "code",
   "execution_count": null,
   "metadata": {},
   "outputs": [],
   "source": [
    "import configparser\n",
    "config = configparser.ConfigParser()\n",
    "config.read('config.ini')\n",
    "\n",
    "chatbot = Chatbot(config={\n",
    "  \"access_token\": config['chatGPT']['access_token'],\n",
    "  \"conversation_id\": config['chatGPT']['conversation_id'],\n",
    "  # \"parent_id\": \"UUID...\",\n",
    "  # \"proxy\": \"...\",\n",
    "  \"model\": config['chatGPT']['model'], # gpt-4-browsing, text-davinci-002-render-sha, gpt-4, gpt-4-plugins\n",
    "  # \"plugin_ids\" : [\"plugin-d1d6eb04-3375-40aa-940a-c2fc57ce0f51\"],   # Wolfram Alpha example\n",
    "  # \"disable_history\": True,\n",
    "})\n",
    "\n",
    "prompt = \"你好\"\n",
    "response = \"\"\n",
    "\n",
    "for data in chatbot.ask(prompt):\n",
    "    response = data[\"message\"]\n",
    "\n",
    "print(response)"
   ]
  }
 ],
 "metadata": {
  "kernelspec": {
   "display_name": "Python 3",
   "language": "python",
   "name": "python3"
  },
  "language_info": {
   "codemirror_mode": {
    "name": "ipython",
    "version": 3
   },
   "file_extension": ".py",
   "mimetype": "text/x-python",
   "name": "python",
   "nbconvert_exporter": "python",
   "pygments_lexer": "ipython3",
   "version": "3.9.16"
  },
  "orig_nbformat": 4
 },
 "nbformat": 4,
 "nbformat_minor": 2
}
